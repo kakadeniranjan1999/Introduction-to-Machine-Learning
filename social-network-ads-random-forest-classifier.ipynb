{
 "cells": [
  {
   "cell_type": "code",
   "execution_count": 128,
   "outputs": [],
   "source": [
    "from sklearn.ensemble import RandomForestClassifier\n",
    "from sklearn.metrics import confusion_matrix, classification_report\n",
    "from sklearn.preprocessing import StandardScaler, LabelEncoder\n",
    "from sklearn.model_selection import train_test_split\n",
    "import  matplotlib.pyplot as plt\n",
    "import pandas as pd\n",
    "import numpy as np"
   ],
   "metadata": {
    "collapsed": false,
    "pycharm": {
     "name": "#%%\n"
    }
   }
  },
  {
   "cell_type": "markdown",
   "source": [
    "## Load data from CSV"
   ],
   "metadata": {
    "collapsed": false
   }
  },
  {
   "cell_type": "code",
   "execution_count": 129,
   "outputs": [],
   "source": [
    "data = pd.read_csv('datasets/social-network-ads-dataset/Social_Network_Ads.csv')\n",
    "X = data.iloc[:, 1:4]\n",
    "y = data.iloc[:, 4]"
   ],
   "metadata": {
    "collapsed": false,
    "pycharm": {
     "name": "#%%\n"
    }
   }
  },
  {
   "cell_type": "markdown",
   "source": [
    "## Split dataset into training and testing sets"
   ],
   "metadata": {
    "collapsed": false
   }
  },
  {
   "cell_type": "code",
   "execution_count": 130,
   "outputs": [],
   "source": [
    "\n",
    "X_train, X_test, y_train, y_test = train_test_split(X, y, test_size=0.3, random_state=42)"
   ],
   "metadata": {
    "collapsed": false,
    "pycharm": {
     "name": "#%%\n"
    }
   }
  },
  {
   "cell_type": "markdown",
   "source": [
    "## Data preprocessing"
   ],
   "metadata": {
    "collapsed": false
   }
  },
  {
   "cell_type": "code",
   "execution_count": 131,
   "outputs": [
    {
     "name": "stderr",
     "output_type": "stream",
     "text": [
      "/home/optimus-ubuntu/optimus_venvs/dl-venv/lib/python3.6/site-packages/pandas/core/indexing.py:1743: SettingWithCopyWarning: \n",
      "A value is trying to be set on a copy of a slice from a DataFrame.\n",
      "Try using .loc[row_indexer,col_indexer] = value instead\n",
      "\n",
      "See the caveats in the documentation: https://pandas.pydata.org/pandas-docs/stable/user_guide/indexing.html#returning-a-view-versus-a-copy\n",
      "  isetter(ilocs[0], value)\n"
     ]
    }
   ],
   "source": [
    "lb_encoder = LabelEncoder()\n",
    "X_train_encoded = X_train\n",
    "X_test_encoded = X_test\n",
    "X_train_encoded.iloc[:, 0] = lb_encoder.fit_transform(X_train_encoded.iloc[:, 0])\n",
    "X_test_encoded.iloc[:, 0] = lb_encoder.fit_transform(X_test_encoded.iloc[:, 0])\n",
    "\n",
    "sc_scaler = StandardScaler()\n",
    "X_train_scaled = sc_scaler.fit_transform(X_train_encoded)\n",
    "X_test_scaled = sc_scaler.fit_transform(X_test_encoded)"
   ],
   "metadata": {
    "collapsed": false,
    "pycharm": {
     "name": "#%%\n"
    }
   }
  },
  {
   "cell_type": "markdown",
   "source": [
    "## Fit Random Forest Classifier"
   ],
   "metadata": {
    "collapsed": false
   }
  },
  {
   "cell_type": "code",
   "execution_count": 132,
   "outputs": [
    {
     "data": {
      "text/plain": "RandomForestClassifier(criterion='entropy', n_estimators=200, random_state=0)"
     },
     "execution_count": 132,
     "metadata": {},
     "output_type": "execute_result"
    }
   ],
   "source": [
    "random_forest_classifier = RandomForestClassifier(n_estimators=200, criterion='entropy', random_state=0)\n",
    "random_forest_classifier.fit(X_train_scaled, y_train)"
   ],
   "metadata": {
    "collapsed": false,
    "pycharm": {
     "name": "#%%\n"
    }
   }
  },
  {
   "cell_type": "markdown",
   "source": [
    "## Evaluate model"
   ],
   "metadata": {
    "collapsed": false
   }
  },
  {
   "cell_type": "code",
   "execution_count": 133,
   "outputs": [
    {
     "name": "stdout",
     "output_type": "stream",
     "text": [
      "Training Accuracy = 99.64285714285714 \n",
      "\n",
      "Testing Accuracy = 92.5 \n",
      "\n",
      "Confusion Matrix : \n",
      " [[70  3]\n",
      " [ 6 41]] \n",
      "\n",
      "Classification Report : \n",
      "               precision    recall  f1-score   support\n",
      "\n",
      "           0       0.92      0.96      0.94        73\n",
      "           1       0.93      0.87      0.90        47\n",
      "\n",
      "    accuracy                           0.93       120\n",
      "   macro avg       0.93      0.92      0.92       120\n",
      "weighted avg       0.93      0.93      0.92       120\n",
      "\n"
     ]
    }
   ],
   "source": [
    "from matplotlib.colors import ListedColormap\n",
    "\n",
    "predictions = random_forest_classifier.predict(X_test_scaled)\n",
    "print('Training Accuracy = {} \\n'.format(random_forest_classifier.score(X_train_scaled, y_train) * 100))\n",
    "print('Testing Accuracy = {} \\n'.format(random_forest_classifier.score(X_test_scaled, y_test) * 100))\n",
    "print('Confusion Matrix : \\n {} \\n'.format(confusion_matrix(y_true=y_test, y_pred=predictions)))\n",
    "print('Classification Report : \\n {}'.format(classification_report(y_true=y_test, y_pred=predictions)))"
   ],
   "metadata": {
    "collapsed": false,
    "pycharm": {
     "name": "#%%\n"
    }
   }
  }
 ],
 "metadata": {
  "kernelspec": {
   "display_name": "Python 3",
   "language": "python",
   "name": "python3"
  },
  "language_info": {
   "codemirror_mode": {
    "name": "ipython",
    "version": 3
   },
   "file_extension": ".py",
   "mimetype": "text/x-python",
   "name": "python",
   "nbconvert_exporter": "python",
   "pygments_lexer": "ipython3",
   "version": "3.6.9"
  }
 },
 "nbformat": 4,
 "nbformat_minor": 1
}