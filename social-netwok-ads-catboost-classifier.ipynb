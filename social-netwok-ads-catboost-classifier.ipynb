{
 "cells": [
  {
   "cell_type": "code",
   "execution_count": 54,
   "metadata": {
    "pycharm": {
     "name": "#%%\n"
    }
   },
   "outputs": [],
   "source": [
    "from catboost import CatBoostClassifier\n",
    "from sklearn.metrics import confusion_matrix, classification_report\n",
    "from sklearn.preprocessing import StandardScaler, LabelEncoder\n",
    "from sklearn.model_selection import train_test_split\n",
    "import pandas as pd"
   ]
  },
  {
   "cell_type": "markdown",
   "metadata": {},
   "source": [
    "## Load data from CSV"
   ]
  },
  {
   "cell_type": "code",
   "execution_count": 55,
   "metadata": {
    "pycharm": {
     "name": "#%%\n"
    }
   },
   "outputs": [],
   "source": [
    "data = pd.read_csv('datasets/social-network-ads-dataset/Social_Network_Ads.csv')\n",
    "X = data.iloc[:, 1:4]\n",
    "y = data.iloc[:, 4]"
   ]
  },
  {
   "cell_type": "markdown",
   "metadata": {},
   "source": [
    "## Split dataset into training and testing sets"
   ]
  },
  {
   "cell_type": "code",
   "execution_count": 56,
   "metadata": {
    "pycharm": {
     "name": "#%%\n"
    }
   },
   "outputs": [],
   "source": [
    "\n",
    "X_train, X_test, y_train, y_test = train_test_split(X, y, test_size=0.3, random_state=42)"
   ]
  },
  {
   "cell_type": "markdown",
   "metadata": {},
   "source": [
    "## Data preprocessing"
   ]
  },
  {
   "cell_type": "code",
   "execution_count": 57,
   "metadata": {
    "pycharm": {
     "name": "#%%\n"
    }
   },
   "outputs": [
    {
     "name": "stderr",
     "output_type": "stream",
     "text": [
      "/home/optimus-ubuntu/optimus_venvs/dl-venv/lib/python3.6/site-packages/pandas/core/indexing.py:1743: SettingWithCopyWarning: \n",
      "A value is trying to be set on a copy of a slice from a DataFrame.\n",
      "Try using .loc[row_indexer,col_indexer] = value instead\n",
      "\n",
      "See the caveats in the documentation: https://pandas.pydata.org/pandas-docs/stable/user_guide/indexing.html#returning-a-view-versus-a-copy\n",
      "  isetter(ilocs[0], value)\n"
     ]
    }
   ],
   "source": [
    "lb_encoder = LabelEncoder()\n",
    "X_train_encoded = X_train\n",
    "X_test_encoded = X_test\n",
    "X_train_encoded.iloc[:, 0] = lb_encoder.fit_transform(X_train_encoded.iloc[:, 0])\n",
    "X_test_encoded.iloc[:, 0] = lb_encoder.fit_transform(X_test_encoded.iloc[:, 0])\n",
    "\n",
    "sc_scaler = StandardScaler()\n",
    "X_train_scaled = sc_scaler.fit_transform(X_train_encoded)\n",
    "X_test_scaled = sc_scaler.fit_transform(X_test_encoded)"
   ]
  },
  {
   "cell_type": "markdown",
   "metadata": {},
   "source": [
    "## Fit LightGBM Classifier"
   ]
  },
  {
   "cell_type": "code",
   "execution_count": 58,
   "metadata": {
    "pycharm": {
     "name": "#%%\n"
    }
   },
   "outputs": [
    {
     "name": "stdout",
     "output_type": "stream",
     "text": [
      "0:\tlearn: 0.6882216\ttotal: 1.42ms\tremaining: 19.9ms\n",
      "1:\tlearn: 0.6829541\ttotal: 3.31ms\tremaining: 21.5ms\n",
      "2:\tlearn: 0.6784713\ttotal: 4.8ms\tremaining: 19.2ms\n",
      "3:\tlearn: 0.6732795\ttotal: 6.17ms\tremaining: 17ms\n",
      "4:\tlearn: 0.6686383\ttotal: 7.6ms\tremaining: 15.2ms\n",
      "5:\tlearn: 0.6638580\ttotal: 9.3ms\tremaining: 13.9ms\n",
      "6:\tlearn: 0.6592573\ttotal: 10.9ms\tremaining: 12.4ms\n",
      "7:\tlearn: 0.6550542\ttotal: 12.5ms\tremaining: 10.9ms\n",
      "8:\tlearn: 0.6506416\ttotal: 14ms\tremaining: 9.32ms\n",
      "9:\tlearn: 0.6461100\ttotal: 15.4ms\tremaining: 7.7ms\n",
      "10:\tlearn: 0.6424343\ttotal: 16.9ms\tremaining: 6.13ms\n",
      "11:\tlearn: 0.6383960\ttotal: 18ms\tremaining: 4.49ms\n",
      "12:\tlearn: 0.6339691\ttotal: 19.3ms\tremaining: 2.97ms\n",
      "13:\tlearn: 0.6307781\ttotal: 20.7ms\tremaining: 1.48ms\n",
      "14:\tlearn: 0.6265923\ttotal: 21.7ms\tremaining: 0us\n"
     ]
    },
    {
     "data": {
      "text/plain": [
       "<catboost.core.CatBoostClassifier at 0x7f8a06d935c0>"
      ]
     },
     "execution_count": 58,
     "metadata": {},
     "output_type": "execute_result"
    }
   ],
   "source": [
    "xg_boost_classifier = CatBoostClassifier(iterations=15,\n",
    "                                         learning_rate = 0.01,\n",
    "                                         depth = 5)\n",
    "xg_boost_classifier.fit(X_train_scaled, y_train)"
   ]
  },
  {
   "cell_type": "markdown",
   "metadata": {},
   "source": [
    "## Evaluate model"
   ]
  },
  {
   "cell_type": "code",
   "execution_count": 59,
   "metadata": {
    "pycharm": {
     "name": "#%%\n"
    }
   },
   "outputs": [
    {
     "name": "stdout",
     "output_type": "stream",
     "text": [
      "Training Accuracy = 90.0 \n",
      "\n",
      "Testing Accuracy = 93.33333333333333 \n",
      "\n",
      "Confusion Matrix : \n",
      " [[68  5]\n",
      " [ 3 44]] \n",
      "\n",
      "Classification Report : \n",
      "               precision    recall  f1-score   support\n",
      "\n",
      "           0       0.96      0.93      0.94        73\n",
      "           1       0.90      0.94      0.92        47\n",
      "\n",
      "    accuracy                           0.93       120\n",
      "   macro avg       0.93      0.93      0.93       120\n",
      "weighted avg       0.93      0.93      0.93       120\n",
      "\n"
     ]
    }
   ],
   "source": [
    "predictions = xg_boost_classifier.predict(X_test_scaled)\n",
    "print('Training Accuracy = {} \\n'.format(xg_boost_classifier.score(X_train_scaled, y_train) * 100))\n",
    "print('Testing Accuracy = {} \\n'.format(xg_boost_classifier.score(X_test_scaled, y_test) * 100))\n",
    "print('Confusion Matrix : \\n {} \\n'.format(confusion_matrix(y_true=y_test, y_pred=predictions)))\n",
    "print('Classification Report : \\n {}'.format(classification_report(y_true=y_test, y_pred=predictions)))"
   ]
  }
 ],
 "metadata": {
  "kernelspec": {
   "display_name": "Python 3",
   "language": "python",
   "name": "python3"
  },
  "language_info": {
   "codemirror_mode": {
    "name": "ipython",
    "version": 3
   },
   "file_extension": ".py",
   "mimetype": "text/x-python",
   "name": "python",
   "nbconvert_exporter": "python",
   "pygments_lexer": "ipython3",
   "version": "3.6.9"
  }
 },
 "nbformat": 4,
 "nbformat_minor": 1
}